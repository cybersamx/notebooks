{
 "cells": [
  {
   "cell_type": "markdown",
   "metadata": {
    "collapsed": true,
    "pycharm": {
     "name": "#%% md\n"
    }
   },
   "source": [
    "# Overview\n",
    "\n",
    "Artificial neural network (ANN) are a type of computer system that are inspired by the biological brains. You can use ANN to learn to do classifications like image recognition. An ANN is made up of 1 to many neurons aka perceptrons. There's nothing too \"magical\" about a perceptron. At the end of the day, a perceptron is just a function that holds a number, aka activation. The interpretation of the number depends on the context eg. the greyscale of a pixel, the probability that an character is recognized the number 3, etc.\n",
    "\n",
    "This notebook implements a simple perceptron."
   ]
  },
  {
   "cell_type": "code",
   "execution_count": 28,
   "outputs": [],
   "source": [
    "import numpy as np\n",
    "from sklearn.datasets import make_classification"
   ],
   "metadata": {
    "collapsed": false,
    "pycharm": {
     "name": "#%%\n"
    }
   }
  },
  {
   "cell_type": "markdown",
   "source": [
    "Generate a 100-row, 2-feature classification data."
   ],
   "metadata": {
    "collapsed": false,
    "pycharm": {
     "name": "#%% md\n"
    }
   }
  },
  {
   "cell_type": "code",
   "execution_count": 29,
   "outputs": [
    {
     "data": {
      "text/plain": "(100, 2)"
     },
     "execution_count": 29,
     "metadata": {},
     "output_type": "execute_result"
    }
   ],
   "source": [
    "X, y = make_classification(n_features=2, n_redundant=0, n_informative=2,\n",
    "                           random_state=1, n_clusters_per_class=1)\n",
    "X.shape"
   ],
   "metadata": {
    "collapsed": false,
    "pycharm": {
     "name": "#%%\n"
    }
   }
  },
  {
   "cell_type": "markdown",
   "source": [
    "Here's the definition of a perceptron.\n",
    "\n",
    "![Perceptron](images/perceptron.jpg)\n",
    "\n",
    "Image courtesy of [dev.to](https://dev.to/codeperfectplus/single-layer-neural-networks-in-machine-learning-perceptrons-18n8)\n",
    "\n",
    "The `perceptron` function takes a Dataframe type to return a scalar output."
   ],
   "metadata": {
    "collapsed": false
   }
  },
  {
   "cell_type": "code",
   "execution_count": 30,
   "outputs": [],
   "source": [
    "def perceptron(X, activation):\n",
    "    # Seed for reproducibility.\n",
    "    np.random.seed(1)\n",
    "\n",
    "    # Set up the variables.\n",
    "    n = X.shape[0] + X.shape[1]\n",
    "    ## Generate the same number of random weight in the half-open interval [0.0, 1.0) ie. doesn't include 1.\n",
    "    w = 2 * np.random.random(X.shape) - 1\n",
    "    ## A random number for bias\n",
    "    b = np.random.random(1)[0]\n",
    "\n",
    "    # Sum all inputs, weights, and the bias to get output y\n",
    "    z = b\n",
    "    ## Iterate over the columns.\n",
    "    for i in range(0, X.shape[0]-1):\n",
    "        ## Iterate over the rows.\n",
    "        for j in range(0, X.shape[1]-1):\n",
    "            z += X[i, j]/n * w[i, j]\n",
    "\n",
    "    return activation(z)"
   ],
   "metadata": {
    "collapsed": false,
    "pycharm": {
     "name": "#%%\n"
    }
   }
  },
  {
   "cell_type": "markdown",
   "source": [
    "The activation functions that we will use."
   ],
   "metadata": {
    "collapsed": false,
    "pycharm": {
     "name": "#%% md\n"
    }
   }
  },
  {
   "cell_type": "code",
   "execution_count": 31,
   "outputs": [],
   "source": [
    "# Define the activation functions.\n",
    "def relu(z):\n",
    "    return max(0, z)\n",
    "\n",
    "def sigmoid(z):\n",
    "    return 1 / (1 + np.exp(-z))\n",
    "\n",
    "def tanh(z):\n",
    "    return (np.exp(z) - np.exp(-z)) / (np.exp(z) + np.exp(-z))"
   ],
   "metadata": {
    "collapsed": false,
    "pycharm": {
     "name": "#%%\n"
    }
   }
  },
  {
   "cell_type": "markdown",
   "source": [
    "The outputs of the perceptron:"
   ],
   "metadata": {
    "collapsed": false,
    "pycharm": {
     "name": "#%% md\n"
    }
   }
  },
  {
   "cell_type": "code",
   "execution_count": 32,
   "outputs": [
    {
     "name": "stdout",
     "output_type": "stream",
     "text": [
      "Output with ReLU: 0.8912011908681261\n",
      "Output with Sigmoid: 0.7091379939820672\n",
      "Output with Tanh: 0.7119865159305259\n"
     ]
    }
   ],
   "source": [
    "print('Output with ReLU:', perceptron(X, relu))\n",
    "print('Output with Sigmoid:', perceptron(X, sigmoid))\n",
    "print('Output with Tanh:', perceptron(X, tanh))"
   ],
   "metadata": {
    "collapsed": false,
    "pycharm": {
     "name": "#%%\n"
    }
   }
  },
  {
   "cell_type": "markdown",
   "source": [
    "## Reference\n",
    "\n",
    "* [ML Cheatsheet: Activation Functions](https://ml-cheatsheet.readthedocs.io/en/latest/activation_functions.html)"
   ],
   "metadata": {
    "collapsed": false,
    "pycharm": {
     "name": "#%% md\n"
    }
   }
  }
 ],
 "metadata": {
  "kernelspec": {
   "display_name": "Python 3",
   "language": "python",
   "name": "python3"
  },
  "language_info": {
   "codemirror_mode": {
    "name": "ipython",
    "version": 2
   },
   "file_extension": ".py",
   "mimetype": "text/x-python",
   "name": "python",
   "nbconvert_exporter": "python",
   "pygments_lexer": "ipython2",
   "version": "2.7.6"
  }
 },
 "nbformat": 4,
 "nbformat_minor": 0
}