{
 "cells": [
  {
   "cell_type": "markdown",
   "source": [
    "# Overview\n",
    "\n",
    "This notebook encapsulates common operations of importing data from local files, inspecting the data, and fixing the data so that we can get \"clean\" data for further processing and analysis.\n",
    "\n",
    "**CREDIT** This notebook is based on [Data Quest Jupyter tutorial](https://www.dataquest.io/blog/jupyter-notebook-tutorial/)."
   ],
   "metadata": {
    "collapsed": false,
    "pycharm": {
     "name": "#%% md\n"
    }
   }
  },
  {
   "cell_type": "code",
   "execution_count": 7,
   "outputs": [],
   "source": [
    "%matplotlib inline\n",
    "import pandas as pd\n",
    "import matplotlib.pyplot as plt\n",
    "import seaborn as sns\n",
    "\n",
    "sns.set(style=\"darkgrid\")"
   ],
   "metadata": {
    "collapsed": false,
    "pycharm": {
     "name": "#%%\n"
    }
   }
  },
  {
   "cell_type": "markdown",
   "source": [
    "## Data Import\n",
    "\n",
    "Import csv files into a Jupyter notebook."
   ],
   "metadata": {
    "collapsed": false
   }
  },
  {
   "cell_type": "code",
   "execution_count": 8,
   "outputs": [],
   "source": [
    "df = pd.read_csv('data/fortune500.csv')"
   ],
   "metadata": {
    "collapsed": false,
    "pycharm": {
     "name": "#%%\n"
    }
   }
  },
  {
   "cell_type": "markdown",
   "source": [
    "## Data Inspection\n",
    "\n",
    "Now that we have the data imported from a csv file, we want to inspect the dataset for data integrity and quality.\n",
    "\n",
    "### Quick Validation\n",
    "\n",
    "We start with some quick validations with the imported data."
   ],
   "metadata": {
    "collapsed": false
   }
  },
  {
   "cell_type": "code",
   "execution_count": 9,
   "outputs": [
    {
     "name": "stdout",
     "output_type": "stream",
     "text": [
      "First 5 rows:\n",
      "   Year  Rank           Company  Revenue (in millions) Profit (in millions)\n",
      "0  1955     1    General Motors                 9823.5                  806\n",
      "1  1955     2       Exxon Mobil                 5661.4                584.8\n",
      "2  1955     3        U.S. Steel                 3250.4                195.4\n",
      "3  1955     4  General Electric                 2959.1                212.6\n",
      "4  1955     5            Esmark                 2510.8                 19.1\n",
      "\n",
      "# Rows: 25500\n"
     ]
    }
   ],
   "source": [
    "count_rows = len(df)\n",
    "print('First 5 rows:')\n",
    "print(df.head())\n",
    "print()\n",
    "print('# Rows: %d' % count_rows)"
   ],
   "metadata": {
    "collapsed": false,
    "pycharm": {
     "name": "#%%\n"
    }
   }
  },
  {
   "cell_type": "markdown",
   "source": [
    "### Deeper Inspection\n",
    "\n",
    "After an initial pass, let's parse the data for a deeper interpretation."
   ],
   "metadata": {
    "collapsed": false,
    "pycharm": {
     "name": "#%% md\n"
    }
   }
  },
  {
   "cell_type": "code",
   "execution_count": 10,
   "outputs": [
    {
     "name": "stdout",
     "output_type": "stream",
     "text": [
      "The data types of the columns\n",
      "year         int64\n",
      "rank         int64\n",
      "company     object\n",
      "revenue    float64\n",
      "profit      object\n",
      "dtype: object\n"
     ]
    }
   ],
   "source": [
    "df.columns = ['year', 'rank', 'company', 'revenue', 'profit']\n",
    "print('The data types of the columns')\n",
    "print(df.dtypes)"
   ],
   "metadata": {
    "collapsed": false,
    "pycharm": {
     "name": "#%%\n"
    }
   }
  },
  {
   "cell_type": "markdown",
   "source": [
    "### Analyze the Issue\n",
    "\n",
    "Column `profit` should be a numeric type, but it is interpreted by `pandas` as an `object`. This usually means that the dataset probably contain some non-numeric values. Use the following to probe deeper into the `profit` column."
   ],
   "metadata": {
    "collapsed": false
   }
  },
  {
   "cell_type": "code",
   "execution_count": 11,
   "outputs": [
    {
     "name": "stdout",
     "output_type": "stream",
     "text": [
      "Sample rows where profit != numeric value\n",
      "     year  rank                company  revenue profit\n",
      "228  1955   229                 Norton    135.0   N.A.\n",
      "290  1955   291        Schlitz Brewing    100.0   N.A.\n",
      "294  1955   295  Pacific Vegetable Oil     97.9   N.A.\n",
      "296  1955   297     Liebmann Breweries     96.0   N.A.\n",
      "352  1955   353     Minneapolis-Moline     77.4   N.A.\n",
      "\n",
      "# Rows where profit != numeric value: 369\n",
      "% rows where profit != numeric value: 1.447\n"
     ]
    },
    {
     "data": {
      "text/plain": "<Figure size 432x288 with 1 Axes>",
      "image/png": "[encoded data removed]"
     },
     "metadata": {},
     "output_type": "display_data"
    }
   ],
   "source": [
    "# ^ matches any characters not in [ ., -, 1, 2, 3, 4, 5, 6, 7, 8, 9, 0 ]\n",
    "invalid_profits = df.profit.str.contains('[^0-9.-]')\n",
    "sample = df.loc[invalid_profits].head()\n",
    "count_invalid_profits = len(df.loc[invalid_profits])\n",
    "percent_invalid_profits = count_invalid_profits / count_rows * 100\n",
    "print('Sample rows where profit != numeric value')\n",
    "print(sample)\n",
    "print()\n",
    "print('# Rows where profit != numeric value: %d' % count_invalid_profits)\n",
    "print('%% rows where profit != numeric value: %.3f' % percent_invalid_profits)\n",
    "\n",
    "# We also plot a chart to see how many rows per year have invalid profit values.\n",
    "bin_sizes, _, _ = plt.hist(df.year[invalid_profits], bins=range(1955, 2006))"
   ],
   "metadata": {
    "collapsed": false,
    "pycharm": {
     "name": "#%%\n"
    }
   }
  },
  {
   "cell_type": "markdown",
   "source": [
    "### Fix the Issue\n",
    "\n",
    "2 common ways to fix columns with the invalid values are:\n",
    "* remove the row\n",
    "* correct the data value\n",
    "\n",
    "As you can see from the chart, most years have fewer than 10 companies that have invalid profit values. Given this figure, we should be okay to just remove those rows with invalid profits.\n",
    "\n",
    "Here's how we do it."
   ],
   "metadata": {
    "collapsed": false
   }
  },
  {
   "cell_type": "code",
   "execution_count": 12,
   "outputs": [
    {
     "name": "stdout",
     "output_type": "stream",
     "text": [
      "First 5 rows:\n",
      "   year  rank           company  revenue profit\n",
      "0  1955     1    General Motors   9823.5    806\n",
      "1  1955     2       Exxon Mobil   5661.4  584.8\n",
      "2  1955     3        U.S. Steel   3250.4  195.4\n",
      "3  1955     4  General Electric   2959.1  212.6\n",
      "4  1955     5            Esmark   2510.8   19.1\n",
      "\n",
      "# Rows: 25131\n",
      "\n",
      "The data types of the columns\n",
      "year         int64\n",
      "rank         int64\n",
      "company     object\n",
      "revenue    float64\n",
      "profit     float64\n",
      "dtype: object\n"
     ]
    }
   ],
   "source": [
    "# Only rows with valid profits\n",
    "valid_profits = ~invalid_profits\n",
    "df = df.loc[valid_profits]\n",
    "print('First 5 rows:')\n",
    "print(df.head())\n",
    "print()\n",
    "print('# Rows: %d' % len(df))\n",
    "# Force profits as a numeric type since it was auto configured to be object due to invalid values during loading\n",
    "df.profit = df.profit.apply(pd.to_numeric)\n",
    "print()\n",
    "print('The data types of the columns')\n",
    "print(df.dtypes)"
   ],
   "metadata": {
    "collapsed": false,
    "pycharm": {
     "name": "#%%\n"
    }
   }
  },
  {
   "cell_type": "markdown",
   "source": [
    "Finally, the dataframe `df` is now clean and ready for further processing and analysis."
   ],
   "metadata": {
    "collapsed": false,
    "pycharm": {
     "name": "#%% md\n"
    }
   }
  }
 ],
 "metadata": {
  "kernelspec": {
   "display_name": "Python 3",
   "language": "python",
   "name": "python3"
  },
  "language_info": {
   "codemirror_mode": {
    "name": "ipython",
    "version": 2
   },
   "file_extension": ".py",
   "mimetype": "text/x-python",
   "name": "python",
   "nbconvert_exporter": "python",
   "pygments_lexer": "ipython2",
   "version": "2.7.6"
  }
 },
 "nbformat": 4,
 "nbformat_minor": 0
}